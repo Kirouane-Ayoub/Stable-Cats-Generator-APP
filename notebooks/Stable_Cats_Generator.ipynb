{
  "nbformat": 4,
  "nbformat_minor": 0,
  "metadata": {
    "colab": {
      "provenance": [],
      "gpuType": "T4"
    },
    "kernelspec": {
      "name": "python3",
      "display_name": "Python 3"
    },
    "language_info": {
      "name": "python"
    },
    "accelerator": "GPU"
  },
  "cells": [
    {
      "cell_type": "code",
      "execution_count": null,
      "metadata": {
        "id": "Rjwktnv6za9u"
      },
      "outputs": [],
      "source": [
        "!pip install diffusers==0.11.1\n",
        "!pip install transformers scipy ftfy accelerate"
      ]
    },
    {
      "cell_type": "code",
      "source": [
        "import torch\n",
        "from diffusers import StableDiffusionPipeline\n",
        "\n",
        "pipe = StableDiffusionPipeline.from_pretrained(\"ayoubkirouane/Stable-Cats-Generator\", torch_dtype=torch.float16)"
      ],
      "metadata": {
        "id": "1A8XNa7Ezit7"
      },
      "execution_count": null,
      "outputs": []
    },
    {
      "cell_type": "markdown",
      "source": [
        "Next, let's move the pipeline to GPU to have faster inference."
      ],
      "metadata": {
        "id": "IUXrfO9-zq9p"
      }
    },
    {
      "cell_type": "code",
      "source": [
        "pipe = pipe.to(\"cuda\")"
      ],
      "metadata": {
        "id": "7IzxF1L8zmah"
      },
      "execution_count": null,
      "outputs": []
    },
    {
      "cell_type": "markdown",
      "source": [
        "And we are ready to generate images:"
      ],
      "metadata": {
        "id": "G9Hgavk6zucU"
      }
    },
    {
      "cell_type": "code",
      "source": [
        "prompt = \"A photo of a picture-perfect white cat.\"\n",
        "image = pipe(prompt).images[0]  # image here is in [PIL format](https://pillow.readthedocs.io/en/stable/)\n",
        "\n",
        "# Now to display an image you can either save it such as:\n",
        "image.save(f\"cat.png\")\n",
        "\n",
        "# or if you're in a google colab you can directly display it with\n",
        "image"
      ],
      "metadata": {
        "id": "tescvWZlznN5"
      },
      "execution_count": null,
      "outputs": []
    },
    {
      "cell_type": "markdown",
      "source": [
        "Running the above cell multiple times will give you a different image every time. If you want deterministic output you can pass a random seed to the pipeline. Every time you use the same seed you'll have the same image result."
      ],
      "metadata": {
        "id": "90HMEYeFz5Jg"
      }
    },
    {
      "cell_type": "code",
      "source": [
        "import torch\n",
        "\n",
        "generator = torch.Generator(\"cuda\").manual_seed(1024)\n",
        "\n",
        "image = pipe(prompt, generator=generator).images[0]\n",
        "\n",
        "image"
      ],
      "metadata": {
        "id": "uO6ZApy5z6XB"
      },
      "execution_count": null,
      "outputs": []
    },
    {
      "cell_type": "markdown",
      "source": [
        "You can change the number of inference steps using the num_inference_steps argument. In general, results are better the more steps you use. Stable Diffusion, being one of the latest models, works great with a relatively small number of steps, so we recommend to use the default of 50. If you want faster results you can use a smaller number.\n",
        "\n",
        "The following cell uses the same seed as before, but with fewer steps. Note how some details, such as the horse's head or the helmet, are less defin realistic and less defined than in the previous image:"
      ],
      "metadata": {
        "id": "S_4RfCQ5z_81"
      }
    },
    {
      "cell_type": "code",
      "source": [
        "import torch\n",
        "\n",
        "generator = torch.Generator(\"cuda\").manual_seed(1024)\n",
        "\n",
        "image = pipe(prompt, num_inference_steps=15, generator=generator).images[0]\n",
        "\n",
        "image"
      ],
      "metadata": {
        "id": "nvghO3PUz6Mi"
      },
      "execution_count": null,
      "outputs": []
    },
    {
      "cell_type": "markdown",
      "source": [
        "Stable Diffusion produces images of 512 × 512 pixels by default. But it's very easy to override the default using the height and width arguments, so you can create rectangular images in portrait or landscape ratios.\n",
        "\n",
        "These are some recommendations to choose good image sizes:\n",
        "\n",
        "Make sure height and width are both multiples of 8.\n",
        "Going below 512 might result in lower quality images.\n",
        "Going over 512 in both directions will repeat image areas (global coherence is lost).\n",
        "The best way to create non-square images is to use 512 in one dimension, and a value larger than that in the other one."
      ],
      "metadata": {
        "id": "QhRuLQ720ULX"
      }
    },
    {
      "cell_type": "code",
      "source": [
        "image = pipe(prompt, height=512, width=768).images[0]\n",
        "image"
      ],
      "metadata": {
        "id": "SKSbT88r0EFN"
      },
      "execution_count": null,
      "outputs": []
    }
  ]
}